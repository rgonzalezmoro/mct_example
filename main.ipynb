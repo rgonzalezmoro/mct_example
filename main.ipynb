{
 "cells": [
  {
   "cell_type": "code",
   "execution_count": 1,
   "metadata": {},
   "outputs": [
    {
     "name": "stdout",
     "output_type": "stream",
     "text": [
      "importing Jupyter notebook from environ.ipynb\n",
      "importing Jupyter notebook from bdoper.ipynb\n"
     ]
    }
   ],
   "source": [
    "# Import librerías python\n",
    "import sys\n",
    "import os\n",
    "import jsonpickle\n",
    "\n",
    "# Import de modulos ipynb\n",
    "import import_ipynb\n",
    "import environ\n",
    "import bdoper\n",
    "\n",
    "sys.path.append(os.getenv('MCT_PATH')) \n",
    "\n",
    "from funcRSA import setRSAkey, serializeKey, deSerializeKey\n",
    "from classHash import hashClass"
   ]
  },
  {
   "cell_type": "code",
   "execution_count": 2,
   "metadata": {},
   "outputs": [
    {
     "name": "stdout",
     "output_type": "stream",
     "text": [
      "Alberto Perez añadido a la tabla\n",
      "Juan Garcia añadido a la tabla\n",
      "Ana Junquera añadido a la tabla\n",
      "Pedro Garcia añadido a la tabla\n",
      "Emilia Gutierrez añadido a la tabla\n",
      "Francisco Herrador añadido a la tabla\n"
     ]
    }
   ],
   "source": [
    "# Generar par de claves\n",
    "key = setRSAkey(2048)\n",
    "pubkey = key.publickey()\n",
    "\n",
    "lista_nombres = [\"Alberto Perez\",\n",
    "                 \"Juan Garcia\",\n",
    "                 \"Ana Junquera\",\n",
    "                 \"Pedro Garcia\",\n",
    "                 \"Emilia Gutierrez\",\n",
    "                 \"Francisco Herrador\"\n",
    "                ]\n",
    "\n",
    "bdoper.deleteTable('tableusers')\n",
    "for nombre in lista_nombres:\n",
    "    # Instanciamos la clase hash\n",
    "    c_hash = hashClass(nombre, 256)\n",
    "\n",
    "    # Firmamos el hash con la clave privada obtenida\n",
    "    signed_hash = c_hash.signHash(key)\n",
    "\n",
    "    # Serializamos la instancia para poder guardarla en BBDD\n",
    "    clase_serializada =  jsonpickle.encode(c_hash, keys=True)\n",
    "    \n",
    "    # INSERT en bbdd\n",
    "    bdoper.insert_user(nombre, serializeKey(pubkey), clase_serializada, signed_hash)\n"
   ]
  },
  {
   "cell_type": "code",
   "execution_count": 3,
   "metadata": {},
   "outputs": [],
   "source": [
    "# Comprobación de firma\n",
    "# Tenemos en base de datos la clave publica y la firma\n",
    "# Recuperamos la hashClass (columna 3) del usuario y lo des-serializamos \n",
    "# para poder obtener el self.hash que fue firmado\n",
    "\n",
    "def checkSignedHash():\n",
    "    for record in bdoper.select_all_user():\n",
    "        user_class = jsonpickle.decode(record[3])\n",
    "        rsa_key = deSerializeKey(record[2])\n",
    "        signed_hash = record[4]\n",
    "        firma_ok = user_class.verifySign(rsa_key,signed_hash)\n",
    "        print(f'id: {record[0]} - {record[1]} - Verificación firma: {firma_ok}')\n",
    "\n",
    "# Vamos a engañar al sistema para poner una firma falsa\n",
    "# Generamos un nueva clave y hacemos un UPDATE del signed_hash de un usuario\n",
    "def updateSignedHash(id_user):\n",
    "    fake_key = setRSAkey(2048)\n",
    "    fake_hash = hashClass('Anonimous', 256)\n",
    "    fake_signed = fake_hash.signHash(fake_key)\n",
    "    bdoper.upadate_sign(id_user, fake_signed)"
   ]
  },
  {
   "cell_type": "code",
   "execution_count": 4,
   "metadata": {},
   "outputs": [
    {
     "name": "stdout",
     "output_type": "stream",
     "text": [
      "id: 106 - Alberto Perez - Verificación firma: True\n",
      "id: 107 - Juan Garcia - Verificación firma: True\n",
      "id: 108 - Ana Junquera - Verificación firma: True\n",
      "id: 109 - Pedro Garcia - Verificación firma: True\n",
      "id: 110 - Emilia Gutierrez - Verificación firma: True\n",
      "id: 111 - Francisco Herrador - Verificación firma: True\n"
     ]
    }
   ],
   "source": [
    "checkSignedHash()"
   ]
  },
  {
   "cell_type": "code",
   "execution_count": 5,
   "metadata": {},
   "outputs": [
    {
     "name": "stdout",
     "output_type": "stream",
     "text": [
      "Falseada la firma del hash de 110\n"
     ]
    }
   ],
   "source": [
    "updateSignedHash(110)"
   ]
  },
  {
   "cell_type": "code",
   "execution_count": 6,
   "metadata": {},
   "outputs": [
    {
     "name": "stdout",
     "output_type": "stream",
     "text": [
      "id: 106 - Alberto Perez - Verificación firma: True\n",
      "id: 107 - Juan Garcia - Verificación firma: True\n",
      "id: 108 - Ana Junquera - Verificación firma: True\n",
      "id: 109 - Pedro Garcia - Verificación firma: True\n",
      "id: 110 - Emilia Gutierrez - Verificación firma: False\n",
      "id: 111 - Francisco Herrador - Verificación firma: True\n"
     ]
    }
   ],
   "source": [
    "checkSignedHash()"
   ]
  },
  {
   "cell_type": "code",
   "execution_count": null,
   "metadata": {},
   "outputs": [],
   "source": []
  }
 ],
 "metadata": {
  "kernelspec": {
   "display_name": "Python 3",
   "language": "python",
   "name": "python3"
  },
  "language_info": {
   "codemirror_mode": {
    "name": "ipython",
    "version": 3
   },
   "file_extension": ".py",
   "mimetype": "text/x-python",
   "name": "python",
   "nbconvert_exporter": "python",
   "pygments_lexer": "ipython3",
   "version": "3.7.7"
  }
 },
 "nbformat": 4,
 "nbformat_minor": 4
}
